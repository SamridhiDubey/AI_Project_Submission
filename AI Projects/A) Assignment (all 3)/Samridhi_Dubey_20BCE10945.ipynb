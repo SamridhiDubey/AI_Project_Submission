{
  "nbformat": 4,
  "nbformat_minor": 0,
  "metadata": {
    "colab": {
      "provenance": []
    },
    "kernelspec": {
      "name": "python3",
      "display_name": "Python 3"
    },
    "language_info": {
      "name": "python"
    }
  },
  "cells": [
    {
      "cell_type": "code",
      "execution_count": 12,
      "metadata": {
        "id": "wH0FI6KVaxb7"
      },
      "outputs": [],
      "source": [
        "import pandas as pd\n",
        "import numpy as np\n",
        "from sklearn.model_selection import train_test_split\n",
        "from sklearn.preprocessing import LabelEncoder, StandardScaler\n",
        "from tensorflow import keras"
      ]
    },
    {
      "cell_type": "code",
      "source": [
        "data = pd.read_csv('dataset.csv')\n"
      ],
      "metadata": {
        "id": "glcI8-WVbIqf"
      },
      "execution_count": 13,
      "outputs": []
    },
    {
      "cell_type": "code",
      "source": [
        "features = data.drop('Drug', axis=1)\n",
        "labels = data['Drug']\n"
      ],
      "metadata": {
        "id": "mzToshBwbNnB"
      },
      "execution_count": 14,
      "outputs": []
    },
    {
      "cell_type": "code",
      "source": [
        "label_encoder = LabelEncoder()\n",
        "labels = label_encoder.fit_transform(labels)\n"
      ],
      "metadata": {
        "id": "aAG1UzU7bRsw"
      },
      "execution_count": 15,
      "outputs": []
    },
    {
      "cell_type": "code",
      "source": [
        "X_train, X_test, y_train, y_test = train_test_split(features, labels, test_size=0.2, random_state=42)\n",
        "print(X_train)"
      ],
      "metadata": {
        "colab": {
          "base_uri": "https://localhost:8080/"
        },
        "id": "vtpAGge1bWSN",
        "outputId": "c3b03f20-db3c-4694-ce38-22101d937d55"
      },
      "execution_count": 16,
      "outputs": [
        {
          "output_type": "stream",
          "name": "stdout",
          "text": [
            "     Age Sex      BP Cholesterol  Na_to_K\n",
            "79    32   F     LOW      NORMAL   10.840\n",
            "197   52   M  NORMAL        HIGH    9.894\n",
            "38    39   F  NORMAL      NORMAL    9.709\n",
            "24    33   F     LOW        HIGH   33.486\n",
            "122   34   M  NORMAL        HIGH   22.456\n",
            "..   ...  ..     ...         ...      ...\n",
            "106   22   M  NORMAL        HIGH   11.953\n",
            "14    50   F  NORMAL        HIGH   12.703\n",
            "92    29   F    HIGH        HIGH   29.450\n",
            "179   67   F  NORMAL        HIGH   15.891\n",
            "102   28   F     LOW        HIGH   13.127\n",
            "\n",
            "[160 rows x 5 columns]\n"
          ]
        }
      ]
    },
    {
      "cell_type": "code",
      "source": [
        "# Convert categorical variables into numerical form\n",
        "label_encoder = LabelEncoder()\n",
        "X_train['Sex'] = label_encoder.fit_transform(X_train['Sex'])\n",
        "X_test['Sex'] = label_encoder.transform(X_test['Sex'])\n",
        "\n",
        "X_train['BP'] = label_encoder.fit_transform(X_train['BP'])\n",
        "X_test['BP'] = label_encoder.transform(X_test['BP'])\n",
        "\n",
        "X_train['Cholesterol'] = label_encoder.fit_transform(X_train['Cholesterol'])\n",
        "X_test['Cholesterol'] = label_encoder.transform(X_test['Cholesterol'])"
      ],
      "metadata": {
        "id": "ic4rq1VjdMXd"
      },
      "execution_count": 17,
      "outputs": []
    },
    {
      "cell_type": "code",
      "source": [
        "scaler = StandardScaler()\n",
        "X_train = scaler.fit_transform(X_train)\n",
        "X_test = scaler.transform(X_test)\n"
      ],
      "metadata": {
        "id": "mHCozuUobaR9"
      },
      "execution_count": 18,
      "outputs": []
    },
    {
      "cell_type": "code",
      "source": [
        "model = keras.models.Sequential([\n",
        "    keras.layers.Dense(64, activation='relu', input_shape=(X_train.shape[1],)),\n",
        "    keras.layers.Dense(128, activation='relu'),\n",
        "    keras.layers.Dense(64, activation='relu'),\n",
        "    keras.layers.Dense(5, activation='softmax')  # Assuming there are 5 drug classes\n",
        "])"
      ],
      "metadata": {
        "id": "Y5uC-W1TcXj6"
      },
      "execution_count": 19,
      "outputs": []
    },
    {
      "cell_type": "code",
      "source": [
        "model.compile(optimizer='adam', loss='sparse_categorical_crossentropy', metrics=['accuracy'])"
      ],
      "metadata": {
        "id": "6Yzgs66rcpNU"
      },
      "execution_count": 20,
      "outputs": []
    },
    {
      "cell_type": "code",
      "source": [
        "model.fit(X_train, y_train, epochs=10, batch_size=32)"
      ],
      "metadata": {
        "colab": {
          "base_uri": "https://localhost:8080/"
        },
        "id": "NVVPpOeIcqri",
        "outputId": "faadf25e-747a-4589-bc83-7a334cfbd6df"
      },
      "execution_count": 21,
      "outputs": [
        {
          "output_type": "stream",
          "name": "stdout",
          "text": [
            "Epoch 1/10\n",
            "5/5 [==============================] - 1s 6ms/step - loss: 1.5507 - accuracy: 0.3438\n",
            "Epoch 2/10\n",
            "5/5 [==============================] - 0s 4ms/step - loss: 1.3095 - accuracy: 0.7000\n",
            "Epoch 3/10\n",
            "5/5 [==============================] - 0s 6ms/step - loss: 1.1238 - accuracy: 0.6875\n",
            "Epoch 4/10\n",
            "5/5 [==============================] - 0s 4ms/step - loss: 0.9921 - accuracy: 0.6750\n",
            "Epoch 5/10\n",
            "5/5 [==============================] - 0s 4ms/step - loss: 0.8760 - accuracy: 0.7000\n",
            "Epoch 6/10\n",
            "5/5 [==============================] - 0s 4ms/step - loss: 0.7817 - accuracy: 0.7063\n",
            "Epoch 7/10\n",
            "5/5 [==============================] - 0s 4ms/step - loss: 0.7072 - accuracy: 0.7063\n",
            "Epoch 8/10\n",
            "5/5 [==============================] - 0s 6ms/step - loss: 0.6323 - accuracy: 0.7563\n",
            "Epoch 9/10\n",
            "5/5 [==============================] - 0s 4ms/step - loss: 0.5647 - accuracy: 0.8062\n",
            "Epoch 10/10\n",
            "5/5 [==============================] - 0s 4ms/step - loss: 0.5041 - accuracy: 0.8562\n"
          ]
        },
        {
          "output_type": "execute_result",
          "data": {
            "text/plain": [
              "<keras.callbacks.History at 0x7f111a5e7df0>"
            ]
          },
          "metadata": {},
          "execution_count": 21
        }
      ]
    },
    {
      "cell_type": "code",
      "source": [
        "random_data = np.array([[30, 0, 130, 250, 0.5]])  # Example random data\n"
      ],
      "metadata": {
        "id": "iw8LhROzcvxe"
      },
      "execution_count": 22,
      "outputs": []
    },
    {
      "cell_type": "code",
      "source": [
        "scaled_random_data = scaler.transform(random_data)\n"
      ],
      "metadata": {
        "colab": {
          "base_uri": "https://localhost:8080/"
        },
        "id": "uy7Q0EG-cyfl",
        "outputId": "85f3ed16-a672-4e3b-8785-86263bd8d7b7"
      },
      "execution_count": 23,
      "outputs": [
        {
          "output_type": "stream",
          "name": "stderr",
          "text": [
            "/usr/local/lib/python3.10/dist-packages/sklearn/base.py:439: UserWarning: X does not have valid feature names, but StandardScaler was fitted with feature names\n",
            "  warnings.warn(\n"
          ]
        }
      ]
    },
    {
      "cell_type": "code",
      "source": [
        "predictions = model.predict(scaled_random_data)\n",
        "predicted_class = np.argmax(predictions)"
      ],
      "metadata": {
        "colab": {
          "base_uri": "https://localhost:8080/"
        },
        "id": "LP35v1-cc0Q_",
        "outputId": "c9df5914-c446-4b6a-fceb-b95da3050b23"
      },
      "execution_count": 24,
      "outputs": [
        {
          "output_type": "stream",
          "name": "stdout",
          "text": [
            "1/1 [==============================] - 0s 141ms/step\n"
          ]
        }
      ]
    },
    {
      "cell_type": "code",
      "source": [
        "predicted_label = label_encoder.inverse_transform([predicted_class])\n",
        "\n",
        "print(\"Predicted drug class:\", predicted_label)"
      ],
      "metadata": {
        "colab": {
          "base_uri": "https://localhost:8080/"
        },
        "id": "qJZbVOAHc5ib",
        "outputId": "4aa1e248-bb83-428f-aca0-aa80be274ccc"
      },
      "execution_count": 25,
      "outputs": [
        {
          "output_type": "stream",
          "name": "stdout",
          "text": [
            "Predicted drug class: ['HIGH']\n"
          ]
        }
      ]
    }
  ]
}